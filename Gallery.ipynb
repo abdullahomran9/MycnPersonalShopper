{
 "cells": [
  {
   "cell_type": "code",
   "execution_count": 22,
   "metadata": {},
   "outputs": [],
   "source": [
    "import csv\n",
    "import codecs"
   ]
  },
  {
   "cell_type": "code",
   "execution_count": 28,
   "metadata": {},
   "outputs": [],
   "source": [
    "filename=(\"Gallery2.html\")\n",
    "file = codecs.open(filename, \"a\", \"utf-8\")\n",
    "file.write('<html>\\n<title>Mycn</title>\\n<meta name=\"viewport\" content=\"width=device-width, initial-scale=1\">\\n<link rel=\"stylesheet\" href=\"https://www.w3schools.com/w3css/4/w3.css\">\\n<style>\\n.mySlides {display:none;}\\n</style>\\n<body>\\n<div class=\"w3-container\">\\n  <h2>Slideshow Caption</h2>\\n  <p>Add a caption text for each image slide with the w3-display-* classes (topleft, topmiddle, topright, bottomleft, bottommiddle, bottomright or middle).</p>\\n</div>\\n<div class=\"w3-content w3-display-container\">')\n",
    "with open('lsit.csv') as csvfile:\n",
    "    readCSV = csv.reader(csvfile, delimiter=',')\n",
    "    for row in readCSV:\n",
    "        file.write('<div class=\"w3-display-container mySlides\">\\n  <img src=\"'+row[0]+'\" style=\"width:100%\">\\n<div class=\"w3-display-bottomright w3-large w3-container w3-padding-16 w3-black\">\\n'+'<a href=\"' + row[2]+'\">'+ row[1]+'</a>'+'\\n  </div>\\n</div>')\n",
    "\n",
    "file.write('<button class=\"w3-button w3-display-left w3-black\" onclick=\"plusDivs(-1)\">&#10094;</button>\\n<button class=\"w3-button w3-display-right w3-black\" onclick=\"plusDivs(1)\">&#10095;</button>\\n</div>\\n<script>\\nvar slideIndex = 1;\\nshowDivs(slideIndex);\\nfunction plusDivs(n) {\\n  showDivs(slideIndex += n);\\n}\\nfunction showDivs(n) {\\n  var i;\\n  var x = document.getElementsByClassName(\"mySlides\");\\n  if (n > x.length) {slideIndex = 1}\\n  if (n < 1) {slideIndex = x.length}\\n  for (i = 0; i < x.length; i++) {\\n     x[i].style.display = \"none\";  \\n  }\\n  x[slideIndex-1].style.display = \"block\";  \\n}\\n</script>\\n\\n</body>\\n</html>')        \n",
    "file.close()        \n"
   ]
  },
  {
   "cell_type": "code",
   "execution_count": 12,
   "metadata": {},
   "outputs": [
    {
     "ename": "TypeError",
     "evalue": "'_csv.reader' object is not subscriptable",
     "output_type": "error",
     "traceback": [
      "\u001b[1;31m---------------------------------------------------------------------------\u001b[0m",
      "\u001b[1;31mTypeError\u001b[0m                                 Traceback (most recent call last)",
      "\u001b[1;32m<ipython-input-12-1b3b06d0fca1>\u001b[0m in \u001b[0;36m<module>\u001b[1;34m\u001b[0m\n\u001b[1;32m----> 1\u001b[1;33m \u001b[0mcsv_reader\u001b[0m\u001b[1;33m[\u001b[0m\u001b[1;36m1\u001b[0m\u001b[1;33m]\u001b[0m\u001b[1;33m\u001b[0m\u001b[1;33m\u001b[0m\u001b[0m\n\u001b[0m",
      "\u001b[1;31mTypeError\u001b[0m: '_csv.reader' object is not subscriptable"
     ]
    }
   ],
   "source": [
    "csv_reader[1]"
   ]
  },
  {
   "cell_type": "code",
   "execution_count": 23,
   "metadata": {},
   "outputs": [],
   "source": [
    "\n",
    "file.write(\"abdullah\\ngoing \\n home\")\n",
    "file.close()"
   ]
  },
  {
   "cell_type": "code",
   "execution_count": 26,
   "metadata": {},
   "outputs": [
    {
     "name": "stdout",
     "output_type": "stream",
     "text": [
      "<div class=\"w3-display-container mySlides\">\n",
      "  <img src=\"https://cbu01.alicdn.com/img/ibank/2020/162/390/18804093261_797111947.jpg\" style=\"width:100%\">\n",
      "<div class=\"w3-display-bottomright w3-large w3-container w3-padding-16 w3-black\">\n",
      "<a href=\"https://www.shopper.mycn.io/index.php?route=product/product&product_id=1022448\">63.00 Â¥</a>\n",
      "  </div>\n",
      "</div>\n"
     ]
    }
   ],
   "source": [
    "        print('<div class=\"w3-display-container mySlides\">\\n  <img src=\"'+row[0]+'\" style=\"width:100%\">\\n<div class=\"w3-display-bottomright w3-large w3-container w3-padding-16 w3-black\">\\n'+'<a href=\"' + row[2]+'\">'+ row[1]+'</a>'+'\\n  </div>\\n</div>')\n"
   ]
  },
  {
   "cell_type": "code",
   "execution_count": null,
   "metadata": {},
   "outputs": [],
   "source": []
  }
 ],
 "metadata": {
  "kernelspec": {
   "display_name": "Python 3",
   "language": "python",
   "name": "python3"
  },
  "language_info": {
   "codemirror_mode": {
    "name": "ipython",
    "version": 3
   },
   "file_extension": ".py",
   "mimetype": "text/x-python",
   "name": "python",
   "nbconvert_exporter": "python",
   "pygments_lexer": "ipython3",
   "version": "3.7.5"
  }
 },
 "nbformat": 4,
 "nbformat_minor": 4
}
